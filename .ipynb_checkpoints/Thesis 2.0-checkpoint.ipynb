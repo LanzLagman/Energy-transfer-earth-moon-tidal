{
 "cells": [
  {
   "cell_type": "code",
   "execution_count": null,
   "metadata": {},
   "outputs": [],
   "source": [
    "!python --version"
   ]
  },
  {
   "cell_type": "code",
   "execution_count": null,
   "metadata": {},
   "outputs": [],
   "source": [
    "import numpy as np\n",
    "import scipy as sp\n",
    "from scipy.integrate import odeint\n",
    "import matplotlib.pyplot as plt\n",
    "import matplotlib.ticker as ticker\n",
    "%matplotlib inline "
   ]
  },
  {
   "cell_type": "markdown",
   "metadata": {},
   "source": [
    "## CONST with time= 1 year"
   ]
  },
  {
   "cell_type": "markdown",
   "metadata": {},
   "source": [
    "\\begin{align}\n",
    "\\Omega\n",
    "\\end{align}\n",
    "\n",
    "Om0 = initial Ω rotation of earth in radians/years, with respect to distant stars"
   ]
  },
  {
   "cell_type": "markdown",
   "metadata": {},
   "source": [
    "\\begin{align}\n",
    "\\omega\n",
    "\\end{align}\n",
    "\n",
    "om0 = initial ω revolution of moon in radians/secs"
   ]
  },
  {
   "cell_type": "markdown",
   "metadata": {},
   "source": [
    "\\begin{align}\n",
    "M\n",
    "\\end{align}\n",
    "\n",
    "M = mass of Earth"
   ]
  },
  {
   "cell_type": "markdown",
   "metadata": {},
   "source": [
    "\\begin{align}\n",
    "R\n",
    "\\end{align}\n",
    "\n",
    "R = radius of Earth"
   ]
  },
  {
   "cell_type": "markdown",
   "metadata": {},
   "source": [
    "\\begin{align}\n",
    "N_{B}\n",
    "\\end{align}\n",
    "\n",
    "NB = Normal force N_B"
   ]
  },
  {
   "cell_type": "markdown",
   "metadata": {},
   "source": [
    "\\begin{align}\n",
    "r\n",
    "\\end{align}\n",
    "\n",
    "r = radius of moon's orbit"
   ]
  },
  {
   "cell_type": "markdown",
   "metadata": {},
   "source": [
    "\\begin{align}\n",
    "m\n",
    "\\end{align}\n",
    "\n",
    "m = mass of moon"
   ]
  },
  {
   "cell_type": "markdown",
   "metadata": {},
   "source": [
    "\\begin{align}\n",
    "\\eta\n",
    "\\end{align}\n",
    "\n",
    "eta = (see chapter 2)"
   ]
  },
  {
   "cell_type": "markdown",
   "metadata": {},
   "source": [
    "\\begin{align}\n",
    "\\mu\n",
    "\\end{align}\n",
    "\n",
    "u = coefficient of friction(numerically solved)"
   ]
  },
  {
   "cell_type": "markdown",
   "metadata": {},
   "source": [
    "\\begin{align}\n",
    "G\n",
    "\\end{align}\n",
    "\n",
    "G = Gravitational constant in m^3 kg^-1 yr^-2"
   ]
  },
  {
   "cell_type": "markdown",
   "metadata": {},
   "source": [
    "\\begin{align}\n",
    "\\gamma\n",
    "\\end{align}\n",
    "\n",
    "Y = G*M"
   ]
  },
  {
   "cell_type": "code",
   "execution_count": null,
   "metadata": {},
   "outputs": [],
   "source": [
    "Om0=2301.21649\n",
    "om0=84.889944\n",
    "M=5.972*(10**24.0)\n",
    "R=6371000.0\n",
    "NB=1.02992455*(10**37) \n",
    "r=1737400.0  \n",
    "m=7.34767309*(10**22.0)\n",
    "eta=1.0/30.0 \n",
    "u=0.5731*10**(-12) \n",
    "G=66425.34 \n",
    "Y = G*M"
   ]
  },
  {
   "cell_type": "markdown",
   "metadata": {},
   "source": [
    "We use trial and error; adjusting 'u' so that in the next 10**5 years, \n",
    "Earth's angular velocity would be:"
   ]
  },
  {
   "cell_type": "code",
   "execution_count": null,
   "metadata": {},
   "outputs": [],
   "source": [
    "from sympy import Symbol, solve"
   ]
  },
  {
   "cell_type": "code",
   "execution_count": null,
   "metadata": {},
   "outputs": [],
   "source": [
    "x = Symbol(\"x\")\n",
    "solve(2*x + 5 == x)\n",
    "print(x)"
   ]
  },
  {
   "cell_type": "markdown",
   "metadata": {},
   "source": [
    "## For First-Order of Big Omega, rotational velocity of Earth"
   ]
  },
  {
   "cell_type": "markdown",
   "metadata": {},
   "source": [
    "\\begin{align}\n",
    "-\\mu_{k}N_{B}(\\Omega-\\omega)=\\frac{2}{5}MR_{E}\\Omega\\bigg(\\frac{d\\Omega}{dt}\\bigg)\n",
    "\\end{align}"
   ]
  },
  {
   "cell_type": "markdown",
   "metadata": {},
   "source": [
    "\\begin{align}\n",
    "\\bigg(\\frac{d\\Omega}{dt}\\bigg)=\\frac{-5\\mu_{k}N_{B}(\\Omega-\\omega)}{2MR_{E}\\Omega}\n",
    "\\end{align}"
   ]
  },
  {
   "cell_type": "code",
   "execution_count": null,
   "metadata": {},
   "outputs": [],
   "source": [
    "def g(W,t):\n",
    "    W0 = W[0]\n",
    "    W1 = (-5*u*NB*(W0-om0))/(2*M*R*W0) #first non-linear ODE, for Earth's rotational Velocity\n",
    "    \n",
    "    return W1\n",
    "\n",
    "Init = Om0"
   ]
  },
  {
   "cell_type": "code",
   "execution_count": null,
   "metadata": {},
   "outputs": [],
   "source": [
    "tend = 10**10 #time final ending for x-axis of graph (10^3 yrs)\n",
    "dt=10**7 #size of steps you are computing dt=1 year, since tend=10^4\n",
    "t1 = np.arange(0,tend,dt)"
   ]
  },
  {
   "cell_type": "code",
   "execution_count": null,
   "metadata": {},
   "outputs": [],
   "source": [
    "Om1_1 = odeint(g,Init,t1) ##BIG OMEGA within small interval"
   ]
  },
  {
   "cell_type": "code",
   "execution_count": null,
   "metadata": {},
   "outputs": [],
   "source": [
    "plt.xlabel('Time (years)')\n",
    "plt.ylabel('Angular Velocity (radians/year)')\n",
    "plt.title('Time Evolution of $\\Omega$(t) when $\\mu$$_k$=0.5731 x 10$^{-12}$')\n",
    "\n",
    "\n",
    "plt.plot(t1, Om1_1,label='$\\Omega$(t)')#graph of big omega\n",
    "plt.axhline(y=om0,xmin=0,xmax=3,c=\"red\",linewidth=0.5,zorder=0,label='$\\omega$(t)')#graph of small omega(constant)\n",
    "plt.legend(loc='upper right')\n",
    "plt.show()\n",
    "\n"
   ]
  },
  {
   "cell_type": "code",
   "execution_count": null,
   "metadata": {},
   "outputs": [],
   "source": [
    "k=0\n",
    "while (Om1_1[k]/om0 > 0.99):\n",
    "    print( Om1_1[k], om0, t1[k], om0/Om1_1[k]) \n",
    "    #(Angular velocity of the Earth (rad/yr))(orbital velocity of the moon(rad/yr)),  n year where 0.0001 = 1 year, (ratio)\n",
    "    k = k+1"
   ]
  },
  {
   "cell_type": "markdown",
   "metadata": {},
   "source": [
    "\\begin{align}\n",
    "\\frac{6}{5}\\eta MR^{2}_{E}\\Omega\\bigg(\\frac{d\\Omega}{dt}\\bigg)=\\gamma^{\\frac{2}{3}}m\\omega^{-\\frac{1}{3}}\\bigg(\\frac{d\\omega}{dt}\\bigg)\n",
    "\\end{align}"
   ]
  },
  {
   "cell_type": "markdown",
   "metadata": {},
   "source": [
    "def g(W,t):\n",
    "    W0 = W[0]\n",
    "    W1 = (-5*u*NB*(W0-om0))/(2*M*R*W0) #first non-linear ODE, for Earth's rotational Velocity\n",
    "    \n",
    "    return W1\n",
    "\n",
    "Init = Om0"
   ]
  },
  {
   "cell_type": "code",
   "execution_count": null,
   "metadata": {},
   "outputs": [],
   "source": []
  },
  {
   "cell_type": "code",
   "execution_count": null,
   "metadata": {},
   "outputs": [],
   "source": []
  },
  {
   "cell_type": "markdown",
   "metadata": {},
   "source": [
    "\\begin{align}\n",
    "r=\\gamma^{\\frac{1}{3}}\\omega^{-\\frac{2}{3}}\n",
    "\\end{align}"
   ]
  },
  {
   "cell_type": "code",
   "execution_count": null,
   "metadata": {},
   "outputs": [],
   "source": []
  },
  {
   "cell_type": "code",
   "execution_count": null,
   "metadata": {},
   "outputs": [],
   "source": []
  },
  {
   "cell_type": "markdown",
   "metadata": {},
   "source": [
    "\\begin{align}\n",
    "-\\mu_{k}N_{B}(\\Omega-\\omega)=\\frac{2}{5}MR_{E}\\Omega\\bigg(\\frac{d\\Omega}{dt}\\bigg)\n",
    "\\end{align}\n",
    "\n",
    "\\begin{align}\n",
    "\\frac{6}{5}\\eta MR^{2}_{E}\\Omega\\bigg(\\frac{d\\Omega}{dt}\\bigg)=\\gamma^{\\frac{2}{3}}m\\omega^{-\\frac{1}{3}}\\bigg(\\frac{d\\omega}{dt}\\bigg)\n",
    "\\end{align}"
   ]
  },
  {
   "cell_type": "markdown",
   "metadata": {},
   "source": [
    "\\begin{align}\n",
    "\\bigg(\\frac{d\\Omega}{dt}\\bigg)=-\\frac{5}{2}\\frac{\\mu_{k}N_{B}(\\Omega-\\omega)}{MR_{E}\\Omega},\\bigg(\\frac{d\\omega}{dt}\\bigg)=\\frac{6}{5}\\frac{\\eta MR^{2}_{E}\\Omega}{\\gamma^{\\frac{2}{3}}m\\omega^{-\\frac{1}{3}}}\\bigg(\\frac{d\\Omega}{dt}\\bigg)\n",
    "\\end{align}"
   ]
  },
  {
   "cell_type": "code",
   "execution_count": null,
   "metadata": {},
   "outputs": [],
   "source": [
    "Om0=2301.21649\n",
    "om0=84.889944\n",
    "M=5.972*(10**24.0)\n",
    "R=6371000.0\n",
    "NB=1.02992455*(10**37) \n",
    "r=1737400.0  \n",
    "m=7.34767309*(10**22.0)\n",
    "eta=1.0/30.0 \n",
    "u=0.5731*10**(-12) \n",
    "G=66425.34 \n",
    "Y = G*M\n",
    "\n",
    "def W_dt(W, t):\n",
    "    return [(-5*u*NB*(W[0]-om0))/(2*M*R*W[0]), \n",
    "            ((6*eta*M*(R**2)*W[0])/(5*Y**(2/3)*m*W[1]**(-1/3)))*(-5*u*NB*(W[0]-om0))/(2*M*R*W[0])]\n",
    "\n",
    "ts = np.arange(0,10**10,10**7)\n",
    "W0 = [Om0, om0]\n",
    "Ws = odeint(W_dt, W0, ts)\n",
    "earth = Ws[:,0]\n",
    "moon = Ws[:,1]"
   ]
  },
  {
   "cell_type": "code",
   "execution_count": null,
   "metadata": {},
   "outputs": [],
   "source": [
    "plt.plot(ts, earth, label=\"Earth\", c='blue')\n",
    "plt.plot(ts, moon, label=\"Moon\", c='red')\n",
    "plt.xlabel(\"Time\")\n",
    "plt.ylabel(\"Rotation Period\")\n",
    "plt.title('Time Evolution of $\\Omega$(t) when $\\mu$$_k$=0.5731 x 10$^{-12}$')\n",
    "plt.legend()"
   ]
  },
  {
   "cell_type": "code",
   "execution_count": null,
   "metadata": {},
   "outputs": [],
   "source": []
  }
 ],
 "metadata": {
  "kernelspec": {
   "display_name": "Python 3",
   "language": "python",
   "name": "python3"
  },
  "language_info": {
   "codemirror_mode": {
    "name": "ipython",
    "version": 3
   },
   "file_extension": ".py",
   "mimetype": "text/x-python",
   "name": "python",
   "nbconvert_exporter": "python",
   "pygments_lexer": "ipython3",
   "version": "3.6.4"
  }
 },
 "nbformat": 4,
 "nbformat_minor": 2
}
